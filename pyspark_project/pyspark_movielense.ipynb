{
 "cells": [
  {
   "cell_type": "code",
   "execution_count": 1,
   "metadata": {},
   "outputs": [],
   "source": [
    "from pyspark import SparkContext, SparkConf\n",
    "import pyspark.sql.functions as f\n",
    "from pyspark.sql import SQLContext\n",
    "from pyspark.sql.types import StructType, StructField, StringType, IntegerType"
   ]
  },
  {
   "cell_type": "code",
   "execution_count": 4,
   "metadata": {},
   "outputs": [],
   "source": [
    "sc = SparkContext.getOrCreate()\n",
    "\n",
    "sqlContext = SQLContext(sc)"
   ]
  },
  {
   "cell_type": "code",
   "execution_count": 5,
   "metadata": {},
   "outputs": [],
   "source": [
    "ratings_df = sqlContext.read.csv(\"ml-100k/u.data\", header=False)\n",
    "movies_df = sqlContext.read.csv(\"ml-100k/u.item\", header=False)\n",
    "users_df = sqlContext.read.csv(\"ml-100k/u.user\", header=False)\n",
    "genres_df = sqlContext.read.csv(\"ml-100k/u.genre\", header=False)"
   ]
  },
  {
   "cell_type": "code",
   "execution_count": 6,
   "metadata": {},
   "outputs": [
    {
     "name": "stdout",
     "output_type": "stream",
     "text": [
      "+--------------------+\n",
      "|                 _c0|\n",
      "+--------------------+\n",
      "| 196\t242\t3\t881250949|\n",
      "| 186\t302\t3\t891717742|\n",
      "|  22\t377\t1\t878887116|\n",
      "|  244\t51\t2\t880606923|\n",
      "| 166\t346\t1\t886397596|\n",
      "| 298\t474\t4\t884182806|\n",
      "| 115\t265\t2\t881171488|\n",
      "| 253\t465\t5\t891628467|\n",
      "| 305\t451\t3\t886324817|\n",
      "|    6\t86\t3\t883603013|\n",
      "|  62\t257\t2\t879372434|\n",
      "|286\t1014\t5\t879781125|\n",
      "| 200\t222\t5\t876042340|\n",
      "|  210\t40\t3\t891035994|\n",
      "|  224\t29\t3\t888104457|\n",
      "| 303\t785\t3\t879485318|\n",
      "| 122\t387\t5\t879270459|\n",
      "| 194\t274\t2\t879539794|\n",
      "|291\t1042\t4\t874834944|\n",
      "|234\t1184\t2\t892079237|\n",
      "+--------------------+\n",
      "only showing top 20 rows\n",
      "\n"
     ]
    }
   ],
   "source": [
    "ratings_df.show()"
   ]
  },
  {
   "cell_type": "code",
   "execution_count": null,
   "metadata": {},
   "outputs": [],
   "source": []
  }
 ],
 "metadata": {
  "kernelspec": {
   "display_name": "Python 3",
   "language": "python",
   "name": "python3"
  },
  "language_info": {
   "codemirror_mode": {
    "name": "ipython",
    "version": 3
   },
   "file_extension": ".py",
   "mimetype": "text/x-python",
   "name": "python",
   "nbconvert_exporter": "python",
   "pygments_lexer": "ipython3",
   "version": "3.6.9"
  }
 },
 "nbformat": 4,
 "nbformat_minor": 2
}
